{
 "cells": [
  {
   "cell_type": "code",
   "execution_count": 1,
   "metadata": {
    "collapsed": true
   },
   "outputs": [],
   "source": [
    "require 'nn'\n",
    "net = torch.load('ttt.t7')"
   ]
  },
  {
   "cell_type": "code",
   "execution_count": 2,
   "metadata": {
    "collapsed": true
   },
   "outputs": [],
   "source": [
    "-- load trainin images\n",
    "byte_x = torch.load('cifar10/tr_data.bin'):double()\n",
    "-- load trainin labels \n",
    "tr_y = torch.load('cifar10/tr_labels.bin'):double()+1\n",
    "\n",
    "byte_x_flip = torch.DoubleTensor(50000,3,32,32)\n",
    "for i=1,byte_x:size(1) do\n",
    "    image.hflip(byte_x_flip[i], byte_x[i])\n",
    "end\n",
    "\n",
    "x1_mean = torch.mean(byte_x, 1)\n",
    "x1_std = torch.std(byte_x, 1)\n",
    "\n",
    "x2_mean = torch.mean(byte_x_flip, 1)\n",
    "x2_std = torch.std(byte_x_flip, 1)"
   ]
  },
  {
   "cell_type": "code",
   "execution_count": 3,
   "metadata": {},
   "outputs": [
    {
     "data": {
      "image/png": "[encoded data removed]",
      "text/plain": [
       "Console does not support images"
      ]
     },
     "metadata": {
      "image/png": {
       "height": 32,
       "width": 32
      }
     },
     "output_type": "display_data"
    },
    {
     "data": {
      "text/plain": [
       "i = 1\t\n",
       " 121.0845\n",
       " -51.5147\n",
       " -42.7357\n",
       "  64.4083\n",
       " -76.5736\n",
       "  71.6187\n",
       "-165.3226\n",
       "  -2.3561\n",
       " 114.1558\n",
       "   2.1289\n",
       "[torch.DoubleTensor of size 10]\n",
       "\n"
      ]
     },
     "execution_count": 3,
     "metadata": {},
     "output_type": "execute_result"
    },
    {
     "data": {
      "image/png": "[encoded data removed]",
      "text/plain": [
       "Console does not support images"
      ]
     },
     "metadata": {
      "image/png": {
       "height": 32,
       "width": 32
      }
     },
     "output_type": "display_data"
    },
    {
     "data": {
      "text/plain": [
       "i = 2\t\n",
       " 113.0494\n",
       " 118.1186\n",
       "-143.5787\n",
       "   8.9147\n",
       " -75.2628\n",
       "  -9.6710\n",
       "-198.9118\n",
       "   2.5295\n",
       " 112.6330\n",
       " 112.2320\n",
       "[torch.DoubleTensor of size 10]\n",
       "\n"
      ]
     },
     "execution_count": 3,
     "metadata": {},
     "output_type": "execute_result"
    },
    {
     "data": {
      "image/png": "[encoded data removed]",
      "text/plain": [
       "Console does not support images"
      ]
     },
     "metadata": {
      "image/png": {
       "height": 32,
       "width": 32
      }
     },
     "output_type": "display_data"
    },
    {
     "data": {
      "text/plain": [
       "i = 3\t\n",
       "  93.8525\n",
       "-158.8691\n",
       "  97.0122\n",
       "  82.7335\n",
       "   9.4099\n",
       "  93.0662\n",
       "-132.3765\n",
       " -10.2927\n",
       "  33.5439\n",
       " -86.9394\n",
       "[torch.DoubleTensor of size 10]\n",
       "\n"
      ]
     },
     "execution_count": 3,
     "metadata": {},
     "output_type": "execute_result"
    },
    {
     "data": {
      "image/png": "[encoded data removed]",
      "text/plain": [
       "Console does not support images"
      ]
     },
     "metadata": {
      "image/png": {
       "height": 32,
       "width": 32
      }
     },
     "output_type": "display_data"
    },
    {
     "data": {
      "text/plain": [
       "i = 4\t\n",
       " 102.3752\n",
       " -63.6594\n",
       " -29.8994\n",
       " 107.2220\n",
       " -68.0889\n",
       " 103.3519\n",
       "-120.1333\n",
       " -26.4791\n",
       "  97.7801\n",
       " -20.0624\n",
       "[torch.DoubleTensor of size 10]\n",
       "\n"
      ]
     },
     "execution_count": 3,
     "metadata": {},
     "output_type": "execute_result"
    },
    {
     "data": {
      "image/png": "[encoded data removed]",
      "text/plain": [
       "Console does not support images"
      ]
     },
     "metadata": {
      "image/png": {
       "height": 32,
       "width": 32
      }
     },
     "output_type": "display_data"
    },
    {
     "data": {
      "text/plain": [
       "i = 5\t\n",
       "  82.2287\n",
       " -99.0520\n",
       "   2.2851\n",
       "  69.9129\n",
       "  83.8037\n",
       "  81.5083\n",
       "-203.1726\n",
       "  38.2582\n",
       "  45.1174\n",
       " -53.5122\n",
       "[torch.DoubleTensor of size 10]\n",
       "\n"
      ]
     },
     "execution_count": 3,
     "metadata": {},
     "output_type": "execute_result"
    },
    {
     "data": {
      "image/png": "[encoded data removed]",
      "text/plain": [
       "Console does not support images"
      ]
     },
     "metadata": {
      "image/png": {
       "height": 32,
       "width": 32
      }
     },
     "output_type": "display_data"
    },
    {
     "data": {
      "text/plain": [
       "i = 6\t\n",
       "  96.6416\n",
       " -77.6613\n",
       " -28.9296\n",
       "  86.2473\n",
       " -74.9497\n",
       " 105.1645\n",
       "-143.2441\n",
       " -12.9468\n",
       "  98.9408\n",
       " -17.8109\n",
       "[torch.DoubleTensor of size 10]\n",
       "\n"
      ]
     },
     "execution_count": 3,
     "metadata": {},
     "output_type": "execute_result"
    },
    {
     "data": {
      "image/png": "[encoded data removed]",
      "text/plain": [
       "Console does not support images"
      ]
     },
     "metadata": {
      "image/png": {
       "height": 32,
       "width": 32
      }
     },
     "output_type": "display_data"
    },
    {
     "data": {
      "text/plain": [
       "i = 7\t\n",
       " 112.7582\n",
       " -65.3849\n",
       " -21.9713\n",
       " 110.8166\n",
       "-109.5963\n",
       "  81.1461\n",
       " 118.4815\n",
       "-134.0602\n",
       "  81.2223\n",
       " -30.1405\n",
       "[torch.DoubleTensor of size 10]\n",
       "\n"
      ]
     },
     "execution_count": 3,
     "metadata": {},
     "output_type": "execute_result"
    },
    {
     "data": {
      "image/png": "[encoded data removed]",
      "text/plain": [
       "Console does not support images"
      ]
     },
     "metadata": {
      "image/png": {
       "height": 32,
       "width": 32
      }
     },
     "output_type": "display_data"
    },
    {
     "data": {
      "text/plain": [
       "i = 8\t\n",
       "  84.7963\n",
       " -77.8445\n",
       " -67.4952\n",
       "  53.5954\n",
       " -32.0905\n",
       "  83.3644\n",
       "-239.5283\n",
       "  90.3594\n",
       "  84.1678\n",
       "  23.4495\n",
       "[torch.DoubleTensor of size 10]\n",
       "\n"
      ]
     },
     "execution_count": 3,
     "metadata": {},
     "output_type": "execute_result"
    },
    {
     "data": {
      "image/png": "[encoded data removed]",
      "text/plain": [
       "Console does not support images"
      ]
     },
     "metadata": {
      "image/png": {
       "height": 32,
       "width": 32
      }
     },
     "output_type": "display_data"
    },
    {
     "data": {
      "text/plain": [
       "i = 9\t\n",
       " 112.3695\n",
       " -54.4095\n",
       " -45.3157\n",
       "  64.9920\n",
       " -76.9232\n",
       "  76.1528\n",
       "-169.9381\n",
       "  -3.4891\n",
       " 119.0807\n",
       "   0.3839\n",
       "[torch.DoubleTensor of size 10]\n",
       "\n"
      ]
     },
     "execution_count": 3,
     "metadata": {},
     "output_type": "execute_result"
    },
    {
     "data": {
      "image/png": "[encoded data removed]",
      "text/plain": [
       "Console does not support images"
      ]
     },
     "metadata": {
      "image/png": {
       "height": 32,
       "width": 32
      }
     },
     "output_type": "display_data"
    },
    {
     "data": {
      "text/plain": [
       "i = 10\t\n",
       "  81.6447\n",
       " -39.1076\n",
       " -96.5493\n",
       "  47.0284\n",
       " -66.5395\n",
       "  72.7965\n",
       "-191.6836\n",
       "  74.9796\n",
       "  80.7925\n",
       "  87.0052\n",
       "[torch.DoubleTensor of size 10]\n",
       "\n"
      ]
     },
     "execution_count": 3,
     "metadata": {},
     "output_type": "execute_result"
    }
   ],
   "source": [
    "require 'image'\n",
    "\n",
    "criterion = nn.CrossEntropyCriterion()\n",
    "for i = 1, 10 do\n",
    "    x_mean = (x1_mean[1] + x2_mean)/2\n",
    "    for iteration = 1,1000 do\n",
    "        prediction = net:forward(x_mean)\n",
    "        criterion:forward(prediction, i)\n",
    "        cri_grad = criterion:backward(prediction, i)\n",
    "        x_mean = x_mean - net:backward(x_mean, cri_grad)\n",
    "    end\n",
    "    itorch.image(x_mean)\n",
    "    prediction = net:forward(x_mean)\n",
    "    print(\"i = \" .. i)\n",
    "    print(prediction)\n",
    "end"
   ]
  },
  {
   "cell_type": "markdown",
   "metadata": {},
   "source": [
    "Note that in the above output, for each value of i, the ith quantity in the array (of size 10) is the highest."
   ]
  }
 ],
 "metadata": {
  "kernelspec": {
   "display_name": "iTorch",
   "language": "lua",
   "name": "itorch"
  },
  "language_info": {
   "name": "lua",
   "version": "5.1"
  }
 },
 "nbformat": 4,
 "nbformat_minor": 2
}
